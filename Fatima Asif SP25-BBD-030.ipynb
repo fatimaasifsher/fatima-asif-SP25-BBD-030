{
 "cells": [
  {
   "cell_type": "code",
   "execution_count": 2,
   "id": "89ca9adb-c302-48da-be70-399b24396a7c",
   "metadata": {},
   "outputs": [],
   "source": [
    "#NAME:FATIMA ASIF\n",
    "#ROLL NUMBER:SP25-BBD-030"
   ]
  },
  {
   "cell_type": "code",
   "execution_count": 4,
   "id": "184b15e9-4176-401b-a955-6047cc2e223f",
   "metadata": {},
   "outputs": [
    {
     "name": "stdin",
     "output_type": "stream",
     "text": [
      "Enter a number:  3.2\n"
     ]
    },
    {
     "name": "stdout",
     "output_type": "stream",
     "text": [
      "The number is positive.\n"
     ]
    }
   ],
   "source": [
    "#QUESTION 1\n",
    "#QUESTION 1\n",
    "num = float(input(\"Enter a number: \"))\n",
    "if num > 0:\n",
    "    print(\"The number is positive.\")\n",
    "elif num < 0:\n",
    "    print(\"The number is negative.\")\n",
    "else:\n",
    "    print(\"The number is zero.\")"
   ]
  },
  {
   "cell_type": "code",
   "execution_count": 6,
   "id": "2cac5ff6-eed1-4feb-a5e0-4b0b2a9c1b97",
   "metadata": {},
   "outputs": [
    {
     "name": "stdin",
     "output_type": "stream",
     "text": [
      "Enter a year:  2022\n"
     ]
    },
    {
     "name": "stdout",
     "output_type": "stream",
     "text": [
      "Not a leap year\n"
     ]
    }
   ],
   "source": [
    "#QUESTION 2\n",
    "year = int(input(\"Enter a year: \"))\n",
    "\n",
    "if (year % 4 == 0 and year % 100 != 0) or (year % 400 == 0):\n",
    "    print(\"Leap year\")\n",
    "else:\n",
    "    print(\"Not a leap year\")\n"
   ]
  },
  {
   "cell_type": "code",
   "execution_count": 8,
   "id": "75c210ed-68d6-4633-a656-95ab01df7e1f",
   "metadata": {},
   "outputs": [
    {
     "name": "stdin",
     "output_type": "stream",
     "text": [
      "Enter first number:  5.3\n",
      "Enter operator (+, -, *, /):  +\n",
      "Enter second number:  2.3\n"
     ]
    },
    {
     "name": "stdout",
     "output_type": "stream",
     "text": [
      "Result: 7.6\n"
     ]
    }
   ],
   "source": [
    "#QUESTION 3\n",
    "num1 = float(input(\"Enter first number: \"))\n",
    "operator = input(\"Enter operator (+, -, *, /): \")\n",
    "num2 = float(input(\"Enter second number: \"))\n",
    "\n",
    "if operator == '+':\n",
    "    print(\"Result:\", num1 + num2)\n",
    "elif operator == '-':\n",
    "    print(\"Result:\", num1 - num2)\n",
    "elif operator == '*':\n",
    "    print(\"Result:\", num1 * num2)\n",
    "elif operator == '/':\n",
    "    if num2 != 0:\n",
    "        print(\"Result:\", num1 / num2)\n",
    "    else:\n",
    "        print(\"Error: Division by zero\")\n",
    "else:\n",
    "    print(\"Invalid operator\")\n"
   ]
  },
  {
   "cell_type": "code",
   "execution_count": 10,
   "id": "66fb5254-4b57-4311-8c12-583f1c2a9678",
   "metadata": {},
   "outputs": [
    {
     "name": "stdin",
     "output_type": "stream",
     "text": [
      "Enter the student's marks:  23.5\n"
     ]
    },
    {
     "name": "stdout",
     "output_type": "stream",
     "text": [
      "Grade: F\n"
     ]
    }
   ],
   "source": [
    "#QUESTION 4\n",
    "marks = float(input(\"Enter the student's marks: \"))\n",
    "\n",
    "if marks >= 85:\n",
    "    grade = 'A'\n",
    "elif marks >= 70:\n",
    "    grade = 'B'\n",
    "elif marks >= 50:\n",
    "    grade = 'C'\n",
    "else:\n",
    "    grade = 'F'\n",
    "\n",
    "print(\"Grade:\", grade)\n"
   ]
  },
  {
   "cell_type": "code",
   "execution_count": 14,
   "id": "25325ca6-3c80-4495-818d-337ab71bc250",
   "metadata": {},
   "outputs": [
    {
     "name": "stdin",
     "output_type": "stream",
     "text": [
      "Enter your age:  19\n",
      "Enter your income:  57000.56\n"
     ]
    },
    {
     "name": "stdout",
     "output_type": "stream",
     "text": [
      "Not eligible.\n"
     ]
    }
   ],
   "source": [
    "#QUESTION 5\n",
    "age = int(input(\"Enter your age: \"))\n",
    "income = float(input(\"Enter your income: \"))\n",
    "\n",
    "if age >= 21 and income > 25000:\n",
    "    print(\"Eligible for membership.\")\n",
    "else:\n",
    "    print(\"Not eligible.\")\n"
   ]
  },
  {
   "cell_type": "code",
   "execution_count": 18,
   "id": "24820f8d-a72b-425c-9a9c-800c3ac848a3",
   "metadata": {},
   "outputs": [
    {
     "name": "stdin",
     "output_type": "stream",
     "text": [
      "Enter a number:  55\n"
     ]
    },
    {
     "name": "stdout",
     "output_type": "stream",
     "text": [
      "Buzz\n"
     ]
    }
   ],
   "source": [
    "#QUESTION 6\n",
    "num = int(input(\"Enter a number: \"))\n",
    "\n",
    "if num % 3 == 0 and num % 5 == 0:\n",
    "    print(\"FizzBuzz\")\n",
    "elif num % 3 == 0:\n",
    "    print(\"Fizz\")\n",
    "elif num % 5 == 0:\n",
    "    print(\"Buzz\")\n",
    "else:\n",
    "    print(num)\n"
   ]
  },
  {
   "cell_type": "code",
   "execution_count": 28,
   "id": "cba6b61f-5aa1-4938-9ef4-71f48d916cc5",
   "metadata": {},
   "outputs": [
    {
     "name": "stdin",
     "output_type": "stream",
     "text": [
      "Enter a single character:  b\n"
     ]
    },
    {
     "name": "stdout",
     "output_type": "stream",
     "text": [
      "It is a consonant.\n"
     ]
    }
   ],
   "source": [
    "#QUESTION 7\n",
    "char = input(\"Enter a single character: \")\n",
    "\n",
    "if len(char) != 1:\n",
    "    print(\"Please enter only a single character.\")\n",
    "elif (char >= 'a' and char <= 'z') or (char >= 'A' and char <= 'Z'):\n",
    "    if char.lower() in ('a', 'e', 'i', 'o', 'u'):\n",
    "        print(\"It is a vowel.\")\n",
    "    else:\n",
    "        print(\"It is a consonant.\")\n",
    "elif char >= '0' and char <= '9':\n",
    "    print(\"It is a digit.\")\n",
    "else:\n",
    "    print(\"It is a special character.\")"
   ]
  },
  {
   "cell_type": "code",
   "execution_count": 22,
   "id": "287e70bf-1a98-4f8c-8d21-3ba5d7e8f2ea",
   "metadata": {},
   "outputs": [
    {
     "name": "stdin",
     "output_type": "stream",
     "text": [
      "Enter the current day:  tuesday\n"
     ]
    },
    {
     "name": "stdout",
     "output_type": "stream",
     "text": [
      "Time to work!\n"
     ]
    }
   ],
   "source": [
    "#QUESTION 8\n",
    "day = input(\"Enter the current day: \")\n",
    "\n",
    "if day.lower() in [\"saturday\", \"sunday\"]:\n",
    "    print(\"Enjoy your weekend!\")\n",
    "else:\n",
    "    print(\"Time to work!\")\n"
   ]
  },
  {
   "cell_type": "code",
   "execution_count": 24,
   "id": "c7006a4e-0382-4463-b419-a2d7af4cf118",
   "metadata": {},
   "outputs": [
    {
     "name": "stdin",
     "output_type": "stream",
     "text": [
      "Enter years of service:  6\n",
      "Enter your salary:  67000.77\n"
     ]
    },
    {
     "name": "stdout",
     "output_type": "stream",
     "text": [
      "Bonus amount: 6700.077000000001\n"
     ]
    }
   ],
   "source": [
    "#QUESTION 9\n",
    "years = int(input(\"Enter years of service: \"))\n",
    "salary = float(input(\"Enter your salary: \"))\n",
    "\n",
    "if years >= 10:\n",
    "    bonus = salary * 0.2\n",
    "elif years >= 5:\n",
    "    bonus = salary * 0.1\n",
    "else:\n",
    "    bonus = salary * 0.05\n",
    "\n",
    "print(\"Bonus amount:\", bonus)"
   ]
  },
  {
   "cell_type": "code",
   "execution_count": 26,
   "id": "10b44799-2cf9-4964-814a-3321d7ec544c",
   "metadata": {},
   "outputs": [
    {
     "name": "stdin",
     "output_type": "stream",
     "text": [
      "Enter a number:  33\n"
     ]
    },
    {
     "name": "stdout",
     "output_type": "stream",
     "text": [
      "The number is positive and odd.\n"
     ]
    }
   ],
   "source": [
    "#QUESTION 10\n",
    "num = int(input(\"Enter a number: \"))\n",
    "\n",
    "if num > 0:\n",
    "    if num % 2 == 0:\n",
    "        print(\"The number is positive and even.\")\n",
    "    else:\n",
    "        print(\"The number is positive and odd.\")\n",
    "elif num < 0:\n",
    "    print(\"The number is negative.\")\n",
    "else:\n",
    "    print(\"The number is zero.\")"
   ]
  }
 ],
 "metadata": {
  "kernelspec": {
   "display_name": "Python [conda env:base] *",
   "language": "python",
   "name": "conda-base-py"
  },
  "language_info": {
   "codemirror_mode": {
    "name": "ipython",
    "version": 3
   },
   "file_extension": ".py",
   "mimetype": "text/x-python",
   "name": "python",
   "nbconvert_exporter": "python",
   "pygments_lexer": "ipython3",
   "version": "3.12.7"
  }
 },
 "nbformat": 4,
 "nbformat_minor": 5
}
